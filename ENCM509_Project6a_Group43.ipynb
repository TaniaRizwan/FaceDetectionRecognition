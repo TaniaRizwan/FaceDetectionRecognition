{
 "cells": [
  {
   "cell_type": "markdown",
   "metadata": {},
   "source": [
    "#### **ENCM 509 Final Project**\n",
    "##### Face Detection and Recognition\n",
    "##### Authors: Tania Rizwan, Muhammad Haris Kashif"
   ]
  },
  {
   "cell_type": "code",
   "execution_count": null,
   "metadata": {},
   "outputs": [],
   "source": [
    "# Choose 5-10 photos with one or two faces in it.\n",
    "# • Convert to gray-scale.\n",
    "# • Perform some pre-processing (such as histogram equalization, smoothing) if needed. This\n",
    "# depends on the image quality.\n",
    "# • Performs Face detection:\n",
    "# – Investigate the original Haar cascades for the frontal face detection, by choosing 2-3 various\n",
    "# values of the parameters of scalefactor, and minNeighbors. Compare the results, and draw\n",
    "# conclusions.\n",
    "# – Investigate the LBP-based Haar cascades for the frontal face detection, by choosing 2-3\n",
    "# various values of the parameters of scale ratio, step ratio, min size, max size. Compare\n",
    "# the results, and draw conclusions.\n",
    "# – Investigate the performance of the HOG+SVM face detection.\n",
    "# • Evaluate the number of errors in face detection using the above approaches. Draw conclusions.\n",
    "# • Creation of a Precision vs. Recall graph for each algorithm (with their best performing param-\n",
    "# eters). Which algorithm is superior in performance?\n",
    "\n",
    "# RESOURCES FOR CODE \n",
    "# https://www.datacamp.com/tutorial/face-detection-python-opencv#face-detection"
   ]
  },
  {
   "cell_type": "markdown",
   "metadata": {},
   "source": []
  }
 ],
 "metadata": {
  "kernelspec": {
   "display_name": "venv",
   "language": "python",
   "name": "python3"
  },
  "language_info": {
   "name": "python",
   "version": "3.12.0"
  }
 },
 "nbformat": 4,
 "nbformat_minor": 2
}
